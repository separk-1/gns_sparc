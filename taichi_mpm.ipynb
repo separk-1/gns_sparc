{
 "cells": [
  {
   "cell_type": "code",
   "execution_count": null,
   "id": "c63114dc",
   "metadata": {},
   "outputs": [],
   "source": [
    "import os\n",
    "\n",
    "def makedir(dir):\n",
    "    try:\n",
    "        os.mkdir(dir)\n",
    "    except:\n",
    "        None\n",
    "\n",
    "makedir(f\"outputs\")"
   ]
  },
  {
   "cell_type": "code",
   "execution_count": 3,
   "id": "6ac77301",
   "metadata": {},
   "outputs": [
    {
     "name": "stdout",
     "output_type": "stream",
     "text": [
      "[Taichi] version 1.7.0, llvm 15.0.1, commit 2fd24490, win, python 3.9.13\n",
      "[Taichi] Starting on arch=cuda\n"
     ]
    }
   ],
   "source": [
    "import taichi as ti\n",
    "import numpy as np\n",
    "from engine.mpm_solver import MPMSolver\n",
    "\n",
    "\n",
    "ti.init(arch=ti.cuda)  # Try to run on GPU\n",
    "\n",
    "mpm = MPMSolver(res=(64, 64),\n",
    "                padding=6)\n",
    "\n",
    "\n",
    "mpm.add_ellipsoid(center=[0.5,0.5],\n",
    "                  radius=0.05,\n",
    "                  material=MPMSolver.material_elastic)\n",
    "\n",
    "mpm.add_cube(lower_corner=[0.1,0.1],\n",
    "             cube_size=[0.8,0.1],\n",
    "             material=MPMSolver.material_sand)\n",
    "\n",
    "material = mpm.particle_info()['material']\n",
    "material = np.array([0 if p==1 else 6 for p in material])\n",
    "position = np.zeros((350, len(material), 2))\n",
    "\n",
    "for frame in range(350):\n",
    "    mpm.step(0.0025)\n",
    "    particles = mpm.particle_info()\n",
    "    position[frame,:,:] = particles['position']\n",
    "\n",
    "np.savez(\"outputs/test_sparc0.npz\", np.array([position, material], dtype=np.ndarray))"
   ]
  },
  {
   "cell_type": "code",
   "execution_count": 4,
   "id": "1c05af3a",
   "metadata": {},
   "outputs": [],
   "source": [
    "mpm = MPMSolver(res=(64, 64),\n",
    "                padding=6)\n",
    "\n",
    "\n",
    "mpm.add_ellipsoid(center=[0.2,0.5],\n",
    "                  radius=0.05,\n",
    "                  material=MPMSolver.material_elastic,\n",
    "                  velocity=[1,0])\n",
    "\n",
    "mpm.add_ellipsoid(center=[0.7,0.5],\n",
    "                  radius=0.05,\n",
    "                  material=MPMSolver.material_elastic,\n",
    "                  velocity=[-1,0])\n",
    "\n",
    "material = mpm.particle_info()['material']\n",
    "material = np.array([0 if p==1 else 6 for p in material])\n",
    "position = np.zeros((350, len(material), 2))\n",
    "\n",
    "for frame in range(350):\n",
    "    mpm.step(0.0025)\n",
    "    particles = mpm.particle_info()\n",
    "    position[frame,:,:] = particles['position']\n",
    "\n",
    "np.savez(\"outputs/test_sparc1.npz\", np.array([position, material], dtype=np.ndarray))"
   ]
  },
  {
   "cell_type": "code",
   "execution_count": 5,
   "id": "c6f6186d",
   "metadata": {},
   "outputs": [
    {
     "name": "stdout",
     "output_type": "stream",
     "text": [
      "[Taichi] Starting on arch=cuda\n"
     ]
    }
   ],
   "source": [
    "ti.init(ti.cuda)\n",
    "\n",
    "mpm = MPMSolver(res=(64, 64),\n",
    "                padding=6)\n",
    "\n",
    "\n",
    "mpm.add_ellipsoid(center=[0.5,0.1],\n",
    "                  radius=0.05,\n",
    "                  material=MPMSolver.material_elastic,\n",
    "                  velocity=[0,5])\n",
    "\n",
    "mpm.add_cube(lower_corner=[0.1,0.7],\n",
    "             cube_size=[0.8,0.1],\n",
    "             material=MPMSolver.material_sand)\n",
    "\n",
    "material = mpm.particle_info()['material']\n",
    "material = np.array([0 if p==1 else 6 for p in material])\n",
    "position = np.zeros((350, len(material), 2))\n",
    "\n",
    "for frame in range(350):\n",
    "    mpm.step(0.0025)\n",
    "    particles = mpm.particle_info()\n",
    "    position[frame,:,:] = particles['position']\n",
    "\n",
    "np.savez(\"outputs/test_sparc2.npz\", np.array([position, material], dtype=np.ndarray))"
   ]
  },
  {
   "cell_type": "code",
   "execution_count": 6,
   "id": "b1d9e239",
   "metadata": {},
   "outputs": [],
   "source": [
    "mpm = MPMSolver(res=(64, 64),\n",
    "                padding=6)\n",
    "\n",
    "\n",
    "mpm.add_ellipsoid(center=[0.5,0.5],\n",
    "                  radius=0.2,\n",
    "                  material=MPMSolver.material_sand)\n",
    "\n",
    "material = mpm.particle_info()['material']\n",
    "material = np.array([0 if p==1 else 6 for p in material])\n",
    "position = np.zeros((350, len(material), 2))\n",
    "\n",
    "for frame in range(350):\n",
    "    mpm.step(0.0025)\n",
    "    particles = mpm.particle_info()\n",
    "    position[frame,:,:] = particles['position']\n",
    "\n",
    "np.savez(\"outputs/test_sparc3.npz\", np.array([position, material], dtype=np.ndarray))"
   ]
  },
  {
   "cell_type": "code",
   "execution_count": 7,
   "id": "1042038c",
   "metadata": {},
   "outputs": [],
   "source": [
    "gui = ti.GUI(\"Taichi Elements\", res=512, background_color=0x112F41)\n",
    "\n",
    "makedir('outputs/gifs')\n",
    "for i in range(4):\n",
    "    makedir(f'outputs/gifs/{i}')\n",
    "    npz = np.load(f\"outputs/test_sparc{i}.npz\", allow_pickle=True)\n",
    "    position = npz['arr_0'][0]\n",
    "    material = np.array([int(p) for p in npz['arr_0'][1]])\n",
    "    \n",
    "    for frame in range(350):\n",
    "        colors = np.array([0x068587, 0xED553B, 0xEEEEF0, 0xFFFFFF, 0xFFFFFF, 0xFDDFFF, 0xFFFF00],\n",
    "                        dtype=np.uint32)\n",
    "        gui.circles(position[frame],\n",
    "                    radius=1.5,\n",
    "                    color=colors[material])\n",
    "        gui.show(f'outputs/gifs/{i}/{frame:06d}.png')"
   ]
  },
  {
   "cell_type": "code",
   "execution_count": 8,
   "id": "1501ed48",
   "metadata": {},
   "outputs": [
    {
     "name": "stdout",
     "output_type": "stream",
     "text": [
      "d:\\Research\\DeepONet\\gns\\taichi_elements\\outputs\\gifs\n"
     ]
    }
   ],
   "source": [
    "%cd outputs/gifs"
   ]
  },
  {
   "cell_type": "code",
   "execution_count": 9,
   "id": "a5ef1bc8",
   "metadata": {},
   "outputs": [
    {
     "name": "stderr",
     "output_type": "stream",
     "text": [
      "C:\\Users\\Jeffrey\\AppData\\Local\\Temp\\ipykernel_3035980\\2368059589.py:7: DeprecationWarning: Starting with ImageIO v3 the behavior of this function will switch to that of iio.v3.imread. To keep the current behavior (and make this warning disappear) use `import imageio.v2 as imageio` or call `imageio.v2.imread` directly.\n",
      "  images.append(imageio.imread(filename))\n"
     ]
    }
   ],
   "source": [
    "import imageio\n",
    "\n",
    "def png_to_gif(png_dir, output_file, fps):\n",
    "    images = []\n",
    "    png_files = sorted((os.path.join(png_dir, f) for f in os.listdir(png_dir) if f.endswith('.png')))\n",
    "    for filename in png_files:\n",
    "        images.append(imageio.imread(filename))\n",
    "    imageio.mimsave(output_file, images, fps=fps)  # adjust duration as needed\n",
    "\n",
    "for i in range(4):\n",
    "    png_to_gif(f\"{i}\", f\"test_sparc{i}.gif\", 60)"
   ]
  }
 ],
 "metadata": {
  "kernelspec": {
   "display_name": "base",
   "language": "python",
   "name": "python3"
  },
  "language_info": {
   "codemirror_mode": {
    "name": "ipython",
    "version": 3
   },
   "file_extension": ".py",
   "mimetype": "text/x-python",
   "name": "python",
   "nbconvert_exporter": "python",
   "pygments_lexer": "ipython3",
   "version": "3.9.13"
  }
 },
 "nbformat": 4,
 "nbformat_minor": 5
}
